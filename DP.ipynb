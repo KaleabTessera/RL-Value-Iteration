{
 "cells": [
  {
   "cell_type": "markdown",
   "metadata": {},
   "source": [
    "# Dynamic Programming - Value Iteration\n",
    "Implementation of the In-place and Two-array Value Iteration Algorithm from Chapter 4 of Reinforcement Learning: An Introduction - Richard S. Sutton and Andrew G. Barto. \n",
    "\n",
    "## Algorithm:\n",
    "<img src=\"value_iteration.png\"  width=\"800\" height=\"800\">\n",
    "\n",
    "## Problem:\n",
    "- 4x4 Gridworld.\n",
    "- No obstacles.\n",
    "- Rewards of -1 on all transitions.\n",
    "- Goal in the top left corner – entering the goal state ends the episode.\n",
    "- Use a threshold value of 𝜃 = 0.01.\n",
    "\n",
    "## Implementation\n",
    "In-place and Two-array value iteration algorithm."
   ]
  },
  {
   "cell_type": "code",
   "execution_count": 390,
   "metadata": {},
   "outputs": [],
   "source": [
    "%matplotlib inline"
   ]
  },
  {
   "cell_type": "markdown",
   "metadata": {},
   "source": [
    "## Environment"
   ]
  },
  {
   "cell_type": "code",
   "execution_count": 391,
   "metadata": {},
   "outputs": [],
   "source": [
    "import numpy as np\n",
    "class Environment:\n",
    "    def __init__(self,height,width,start,goal):\n",
    "        self.width = width\n",
    "        self.height = height\n",
    "        \n",
    "        # R - possible reward space\n",
    "        self.R = np.zeros((height,width)) -1\n",
    "\n",
    "        # Goal\n",
    "        self.goal = goal\n",
    "        self.R[self.goal] = 0\n",
    "        \n",
    "        # S - possible state states\n",
    "        self.S = []       \n",
    "        for index, reward in np.ndenumerate(self.R):\n",
    "            # Not an obstacle\n",
    "            if(not np.isnan(reward)):\n",
    "                self.S.append(index)\n",
    "        self.S = np.asarray(self.S)\n",
    "\n",
    "        # A - Actions Space\n",
    "        self.A = ['u','d','l','r']\n",
    "        \n",
    "        # s - Ini State - list for easier indexing\n",
    "        self.s = list(start)\n",
    "        \n",
    "        # r - cumulative Reward\n",
    "        self.G_t = 0\n",
    "        \n",
    "        self.is_done = False\n",
    "        \n",
    "        \n",
    "    def get_rewards(self):\n",
    "        return self.G_t\n",
    "    \n",
    "    def get_possible_rewards(self):\n",
    "        return self.R\n",
    "    \n",
    "    def get_possible_states(self):\n",
    "        return self.S\n",
    "    \n",
    "    def get_state(self):\n",
    "        return self.s\n",
    "    \n",
    "    def get_actions(self):\n",
    "        return self.A\n",
    "    \n",
    "    def get_grid_world(self):\n",
    "        grid_world = np.chararray((self.width, self.height),unicode=True)\n",
    "        grid_world[:] = '-'\n",
    "        grid_world[self.s[0],self.s[1]]= 'a'\n",
    "        grid_world[self.goal] = 'g'\n",
    "        return grid_world\n",
    "     \n",
    "    def step(self, action,print_info):\n",
    "        new_s,new_r = self.take_step(self.s,action)\n",
    "        self.s = new_s\n",
    "        if(print_info):\n",
    "            print(f'old_s:{self.s} new_s:{new_s} r_t:{new_r} G_t:{self.G_t}')\n",
    "            print(f\"World \\n {self.get_grid_world()}\")\n",
    "        \n",
    "        self.is_done = (self.s[0] == self.goal[0] and self.s[1] == self.goal[1])\n",
    "            \n",
    "        return new_r,new_s,self.is_done\n",
    "        \n",
    "    def check_if_s_in_S(self,s):\n",
    "        for possible_s in self.S:\n",
    "            if(possible_s[0] == s[0] and possible_s[1] == s[1]):\n",
    "                return True\n",
    "        return False\n",
    "    \n",
    "    def is_out_of_bounds(self,new_s):\n",
    "        if((new_s[0] < 0 or new_s[0]>self.height-1) or (new_s[1] < 0 or new_s[1]>self.width-1)):\n",
    "            return True\n",
    "        return False\n",
    "    \n",
    "    def reward_given_s_a(self,s,a):\n",
    "        if(a not in self.A):\n",
    "            raise ValueError('Unknown action', a)\n",
    "        new_s = s.copy()\n",
    "        if(a == 'u'):\n",
    "            new_s[0] -= 1\n",
    "        if(a == 'd'):\n",
    "            new_s[0] += 1\n",
    "        if(a == 'l'):\n",
    "            new_s[1] -= 1\n",
    "        if(a == 'r'):\n",
    "            new_s[1] += 1\n",
    "         \n",
    "        # Out of bounds - penalize heavily\n",
    "        if(self.is_out_of_bounds(new_s)):\n",
    "            return s,-1000\n",
    "        # Check Obstacles - penalize heavily\n",
    "        elif(not self.check_if_s_in_S(new_s)):\n",
    "            return s,-1000\n",
    "        return new_s,-1\n",
    "    \n",
    "    def update_coords_value(self,point,successor):\n",
    "        if(not self.is_out_of_bounds(point)):\n",
    "            self.v[point] = self.get_v(self.R[point],self.R[successor])\n",
    "            return point\n",
    "        return None\n",
    "    \n",
    "    def get_feasible_actions(self,s):\n",
    "        feasible_actions = []\n",
    "        for a in self.A:\n",
    "            if(a == 'u'):\n",
    "                new_s[0] -= 1\n",
    "            if(a == 'd'):\n",
    "                new_s[0] += 1\n",
    "            if(a == 'l'):\n",
    "                new_s[1] -= 1\n",
    "            if(a == 'r'):\n",
    "                new_s[1] += 1\n",
    "            \n",
    "        if(self.is_out_of_bounds(new_s)):\n",
    "            return s,-1\n",
    "    \n",
    "    # No obstacle\n",
    "    def is_obstacle(self,s):\n",
    "        return False\n",
    "    \n",
    "    #In-place\n",
    "    def value_iteration_in_place(self,gamma=1):\n",
    "        theta = 0.01\n",
    "        V = np.zeros((self.height,self.width)) \n",
    "        iters_states = np.arange(1,len(self.S))\n",
    "        iterations = 0 \n",
    "        while(True):\n",
    "            delta = 0\n",
    "            for s in self.S[1:]:\n",
    "                v = V[tuple(s)]\n",
    "                Q = np.zeros(len(self.A))\n",
    "                for j,a in enumerate(self.A):                    \n",
    "                    new_s,new_r = self.reward_given_s_a(s,a)\n",
    "                    Q[j] = new_r + gamma * V[tuple(new_s)]\n",
    "               \n",
    "                V[tuple(s)] = np.amax(Q)\n",
    "                delta = max(delta,np.fabs(v - V[tuple(s)]))\n",
    "            iterations += 1\n",
    "            if(delta < theta):\n",
    "                break\n",
    "        return iterations,V\n",
    "    \n",
    "    #Two array\n",
    "    def value_iteration_2_arrays(self,gamma=1):\n",
    "        theta = 0.01\n",
    "        V1 = np.zeros((self.height,self.width)) \n",
    "        iters_states = np.arange(1,len(self.S))\n",
    "        iterations = 0\n",
    "        while(True):\n",
    "            delta = 0\n",
    "            V= V1.copy()\n",
    "            for s in self.S[1:]:\n",
    "                v = V[tuple(s)]\n",
    "                Q = np.zeros(len(self.A))\n",
    "                for j,a in enumerate(self.A):                   \n",
    "                    new_s,new_r = self.reward_given_s_a(s,a)\n",
    "                    Q[j] = new_r + gamma * V1[tuple(new_s)]\n",
    "                V[tuple(s)] = np.amax(Q)\n",
    "                delta = max(delta,np.fabs(v - V[tuple(s)]))\n",
    "            iterations += 1\n",
    "            V1 = V\n",
    "            if(delta < theta):\n",
    "                break\n",
    "        return iterations,V\n",
    "        "
   ]
  },
  {
   "cell_type": "code",
   "execution_count": 392,
   "metadata": {},
   "outputs": [
    {
     "name": "stdout",
     "output_type": "stream",
     "text": [
      "World \n",
      " [['g' '-' '-' '-']\n",
      " ['-' '-' '-' '-']\n",
      " ['-' '-' '-' '-']\n",
      " ['a' '-' '-' '-']]\n"
     ]
    }
   ],
   "source": [
    "height=4\n",
    "width=4\n",
    "\n",
    "env = Environment(height=height,width=width,start=(height-1,0),goal=(0,0))\n",
    "print(f\"World \\n {env.get_grid_world()}\")"
   ]
  },
  {
   "cell_type": "markdown",
   "metadata": {},
   "source": [
    "## Part 1 - Heat Map of Value Function"
   ]
  },
  {
   "cell_type": "code",
   "execution_count": 393,
   "metadata": {},
   "outputs": [
    {
     "name": "stdout",
     "output_type": "stream",
     "text": [
      "Value Function \n",
      " [[ 0. -1. -2. -3.]\n",
      " [-1. -2. -3. -4.]\n",
      " [-2. -3. -4. -5.]\n",
      " [-3. -4. -5. -6.]]\n"
     ]
    },
    {
     "data": {
      "image/png": "[encoded data removed]",
      "text/plain": [
       "<Figure size 432x288 with 1 Axes>"
      ]
     },
     "metadata": {
      "needs_background": "light"
     },
     "output_type": "display_data"
    }
   ],
   "source": [
    "height=4\n",
    "width=4\n",
    "\n",
    "env = Environment(height=height,width=width,start=(height-1,0),goal=(0,0))\n",
    "iterations,V = env.value_iteration_in_place(gamma=1)\n",
    "print(f\"Value Function \\n {V}\")\n",
    "fig, ax = plt.subplots(1,1)\n",
    "ax.imshow(V, cmap='hot', interpolation='nearest')\n",
    "ax.set_title('Heat Map for Gamma = 1')\n",
    "plt.show()"
   ]
  },
  {
   "cell_type": "markdown",
   "metadata": {},
   "source": [
    "## Part 2 - Different  $\\gamma$ (range = np.logspace(-0.2, 0, num=20)) for In-place and Two-array value iteration"
   ]
  },
  {
   "cell_type": "code",
   "execution_count": 394,
   "metadata": {},
   "outputs": [
    {
     "name": "stdout",
     "output_type": "stream",
     "text": [
      "In-place gamma:0.6309573444801932 iterations:4\n",
      "In-place gamma:0.6464371632490061 iterations:4\n",
      "In-place gamma:0.6622967617148326 iterations:4\n",
      "In-place gamma:0.6785454573393577 iterations:4\n",
      "In-place gamma:0.6951927961775606 iterations:4\n",
      "In-place gamma:0.7122485584859914 iterations:4\n",
      "In-place gamma:0.7297227644686392 iterations:4\n",
      "In-place gamma:0.7476256801637686 iterations:4\n",
      "In-place gamma:0.7659678234751837 iterations:4\n",
      "In-place gamma:0.7847599703514613 iterations:4\n",
      "In-place gamma:0.8040131611167854 iterations:4\n",
      "In-place gamma:0.8237387069571016 iterations:4\n",
      "In-place gamma:0.8439481965654002 iterations:4\n",
      "In-place gamma:0.8646535029500364 iterations:4\n",
      "In-place gamma:0.8858667904100825 iterations:4\n",
      "In-place gamma:0.9076005216818144 iterations:4\n",
      "In-place gamma:0.9298674652605264 iterations:4\n",
      "In-place gamma:0.9526807029019819 iterations:4\n",
      "In-place gamma:0.9760536373079002 iterations:4\n",
      "In-place gamma:1.0 iterations:4\n",
      "Two-array gamma:0.6309573444801932 iterations:7\n",
      "Two-array gamma:0.6464371632490061 iterations:7\n",
      "Two-array gamma:0.6622967617148326 iterations:7\n",
      "Two-array gamma:0.6785454573393577 iterations:7\n",
      "Two-array gamma:0.6951927961775606 iterations:7\n",
      "Two-array gamma:0.7122485584859914 iterations:7\n",
      "Two-array gamma:0.7297227644686392 iterations:7\n",
      "Two-array gamma:0.7476256801637686 iterations:7\n",
      "Two-array gamma:0.7659678234751837 iterations:7\n",
      "Two-array gamma:0.7847599703514613 iterations:7\n",
      "Two-array gamma:0.8040131611167854 iterations:7\n",
      "Two-array gamma:0.8237387069571016 iterations:7\n",
      "Two-array gamma:0.8439481965654002 iterations:7\n",
      "Two-array gamma:0.8646535029500364 iterations:7\n",
      "Two-array gamma:0.8858667904100825 iterations:7\n",
      "Two-array gamma:0.9076005216818144 iterations:7\n",
      "Two-array gamma:0.9298674652605264 iterations:7\n",
      "Two-array gamma:0.9526807029019819 iterations:7\n",
      "Two-array gamma:0.9760536373079002 iterations:7\n",
      "Two-array gamma:1.0 iterations:7\n"
     ]
    },
    {
     "data": {
      "image/png": "[encoded data removed]",
      "text/plain": [
       "<Figure size 432x288 with 1 Axes>"
      ]
     },
     "metadata": {
      "needs_background": "light"
     },
     "output_type": "display_data"
    }
   ],
   "source": [
    "import matplotlib.pyplot as plt\n",
    "\n",
    "gamma_range = np.logspace(-0.2, 0, num=20)\n",
    "height=4\n",
    "width=4\n",
    "env = Environment(height=height,width=width,start=(height-1,0),goal=(0,0))\n",
    "\n",
    "iterations_inplace = []\n",
    "iterations_two_array = []\n",
    "\n",
    "for gamma in gamma_range:\n",
    "    iterations,v = env.value_iteration_in_place(gamma=gamma)\n",
    "    iterations_inplace.append(iterations)\n",
    "    print(f'In-place gamma:{gamma} iterations:{iterations}')\n",
    "    \n",
    "for gamma in gamma_range:\n",
    "    iterations,v = env.value_iteration_2_arrays(gamma=gamma)\n",
    "    iterations_two_array.append(iterations)\n",
    "    print(f'Two-array gamma:{gamma} iterations:{iterations}')\n",
    "    \n",
    "\n",
    "plt.plot(iterations_inplace,label='In-place')\n",
    "plt.plot(iterations_two_array,label='Two-array')\n",
    "plt.ylabel('Number iterations to Converge')\n",
    "plt.xlabel('$\\gamma$')\n",
    "plt.title('Number iterations to Converge vs $\\gamma$ for Value Iteration Method')\n",
    "plt.legend()\n",
    "plt.show()"
   ]
  },
  {
   "cell_type": "markdown",
   "metadata": {},
   "source": [
    "## Extra -  Different  $\\gamma$ (range = [0.1, 0.2, 0.3, 0.4, 0.5, 0.6, 0.7, 0.8, 0.9, 1. ]) for In-place and Two-array value iteration"
   ]
  },
  {
   "cell_type": "code",
   "execution_count": 395,
   "metadata": {},
   "outputs": [
    {
     "name": "stdout",
     "output_type": "stream",
     "text": [
      "In-place gamma:0.1 iterations:4\n",
      "In-place gamma:0.2 iterations:4\n",
      "In-place gamma:0.30000000000000004 iterations:4\n",
      "In-place gamma:0.4 iterations:4\n",
      "In-place gamma:0.5 iterations:4\n",
      "In-place gamma:0.6 iterations:4\n",
      "In-place gamma:0.7000000000000001 iterations:4\n",
      "In-place gamma:0.8 iterations:4\n",
      "In-place gamma:0.9 iterations:4\n",
      "In-place gamma:1.0 iterations:4\n",
      "Two-array gamma:0.1 iterations:4\n",
      "Two-array gamma:0.2 iterations:4\n",
      "Two-array gamma:0.30000000000000004 iterations:5\n",
      "Two-array gamma:0.4 iterations:7\n",
      "Two-array gamma:0.5 iterations:7\n",
      "Two-array gamma:0.6 iterations:7\n",
      "Two-array gamma:0.7000000000000001 iterations:7\n",
      "Two-array gamma:0.8 iterations:7\n",
      "Two-array gamma:0.9 iterations:7\n",
      "Two-array gamma:1.0 iterations:7\n"
     ]
    },
    {
     "data": {
      "image/png": "[encoded data removed]",
      "text/plain": [
       "<Figure size 432x288 with 1 Axes>"
      ]
     },
     "metadata": {
      "needs_background": "light"
     },
     "output_type": "display_data"
    }
   ],
   "source": [
    "gamma_range = np.arange(0.1,1.1,0.1)\n",
    "height=4\n",
    "width=4\n",
    "env = Environment(height=height,width=width,start=(height-1,0),goal=(0,0))\n",
    "\n",
    "iterations_inplace = []\n",
    "iterations_two_array = []\n",
    "\n",
    "for gamma in gamma_range:\n",
    "    iterations,v = env.value_iteration_in_place(gamma=gamma)\n",
    "    iterations_inplace.append(iterations)\n",
    "    print(f'In-place gamma:{gamma} iterations:{iterations}')\n",
    "    \n",
    "for gamma in gamma_range:\n",
    "    iterations,v = env.value_iteration_2_arrays(gamma=gamma)\n",
    "    iterations_two_array.append(iterations)\n",
    "    print(f'Two-array gamma:{gamma} iterations:{iterations}')\n",
    "    \n",
    "\n",
    "plt.plot(iterations_inplace,label='In-place')\n",
    "plt.plot(iterations_two_array,label='Two-array')\n",
    "plt.ylabel('Number iterations to Converge')\n",
    "plt.xlabel('$\\gamma$')\n",
    "plt.title('Number iterations to Converge vs $\\gamma$ for Value Iteration Method')\n",
    "plt.legend()\n",
    "plt.show()\n",
    "    "
   ]
  },
  {
   "cell_type": "code",
   "execution_count": null,
   "metadata": {},
   "outputs": [],
   "source": []
  }
 ],
 "metadata": {
  "kernelspec": {
   "display_name": "Python 3",
   "language": "python",
   "name": "python3"
  },
  "language_info": {
   "codemirror_mode": {
    "name": "ipython",
    "version": 3
   },
   "file_extension": ".py",
   "mimetype": "text/x-python",
   "name": "python",
   "nbconvert_exporter": "python",
   "pygments_lexer": "ipython3",
   "version": "3.6.8"
  }
 },
 "nbformat": 4,
 "nbformat_minor": 2
}
